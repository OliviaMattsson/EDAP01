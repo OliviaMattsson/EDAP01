{
 "cells": [
  {
   "cell_type": "markdown",
   "id": "touched-fabric",
   "metadata": {},
   "source": [
    "# Classification with the perceptron and logistic regression\n",
    "\n",
    "__Individual assignment__\n",
    "\n",
    "Author of the assignment: Pierre Nugues\n",
    "\n",
    "__Student name__: Olivia Mattsson (ol3270ma-s)"
   ]
  },
  {
   "cell_type": "markdown",
   "id": "demonstrated-woman",
   "metadata": {},
   "source": [
    "## Objectives\n",
    "\n",
    "The objectives of this second assignment are to:\n",
    "\n",
    "1.  Write a linear regression program using gradient descent;\n",
    "2.  Write linear classifiers using the perceptron algorithm and logistic regression;\n",
    "3.  Experiment variations of the algorithms;\n",
    "4.  Evaluate your classifiers;\n",
    "5.  Experiment with popular tools;\n",
    "6.  Read a scientific article on optimization techniques and comment it;\n",
    "7.  Present your code, results, and comments in a short dissertation."
   ]
  },
  {
   "cell_type": "markdown",
   "id": "collaborative-overhead",
   "metadata": {},
   "source": [
    "## Overview\n",
    "\n",
    "The gradient descent is a basic technique to estimate linear discriminant functions. You will first use the gradient descent method to implement linear regression. You will then program the perceptron algorithm. Finally, you will improve the threshold function with the logistic curve (logistic regression). You will try various configurations and study their influence on the learning speed and accuracy."
   ]
  },
  {
   "cell_type": "markdown",
   "id": "prospective-progress",
   "metadata": {},
   "source": [
    "##  Programming language\n",
    "As programming language, you will use Python and write your code in this notebook.\n",
    "\n",
    "You need to have a comprehensive Python distribution such as Anaconda (https://www.anaconda.com/products/individual). This distribution is available on the student computers at the computer science department.\n",
    "Finally, you start a notebook by typing:\n",
    "\n",
    "`jupyter lab`\n",
    "\n",
    "in a terminal window and you select the notebook by clicking on it in the left pane.\n",
    "You run the pieces of code by typing shift+enter."
   ]
  },
  {
   "cell_type": "markdown",
   "id": "comic-supplement",
   "metadata": {},
   "source": [
    "## Imports\n",
    "Imports you may use"
   ]
  },
  {
   "cell_type": "code",
   "execution_count": 181,
   "id": "otherwise-marketing",
   "metadata": {},
   "outputs": [],
   "source": [
    "import numpy as np\n",
    "import math\n",
    "import random\n",
    "import matplotlib.pyplot as plt\n",
    "from matplotlib import cm\n",
    "from mpl_toolkits.mplot3d import Axes3D\n",
    "%matplotlib inline"
   ]
  },
  {
   "cell_type": "markdown",
   "id": "impressive-lambda",
   "metadata": {},
   "source": [
    "## Linear Regression\n",
    "\n",
    "You will implement the gradient descent method as explained in pages 719--720 in Russell-Norvig and in the slides to compute regression lines. You will implement the stochastic and batch versions of the algorithm.\n",
    "\n",
    "You must try to do it yourself first. If you encounter difficulties, you also have the solution to this exercise in the section _Solution to linear regression_ below."
   ]
  },
  {
   "cell_type": "markdown",
   "id": "professional-output",
   "metadata": {},
   "source": [
    "### Your implementation of linear regression\n",
    "You will implement a regression program to predict the counts of _A_'s in a text from the total count of letters. You will apply it on two data sets corresponding to letter counts in the 15 chapters of the French and English versions of _Salammbô_, where the first column is the total count of characters and the second one, the count of A's. \n",
    "\n",
    "Start with either French or English and when your program ready, test it on the other language."
   ]
  },
  {
   "cell_type": "code",
   "execution_count": 182,
   "id": "junior-romantic",
   "metadata": {},
   "outputs": [],
   "source": [
    "stat_fr = np.array([[36961, 2503],\n",
    "                      [43621, 2992],\n",
    "                      [15694, 1042],\n",
    "                      [36231, 2487],\n",
    "                      [29945, 2014],\n",
    "                      [40588, 2805],\n",
    "                      [75255, 5062],\n",
    "                      [37709, 2643],\n",
    "                      [30899, 2126],\n",
    "                      [25486, 1784],\n",
    "                      [37497, 2641],\n",
    "                      [40398, 2766],\n",
    "                      [74105, 5047],\n",
    "                      [76725, 5312],\n",
    "                      [18317, 1215]])\n",
    "\n",
    "stat_en = np.array([[35680, 2217],\n",
    "                      [42514, 2761],\n",
    "                      [15162, 990],\n",
    "                      [35298, 2274],\n",
    "                      [29800, 1865],\n",
    "                      [40255, 2606],\n",
    "                      [74532, 4805],\n",
    "                      [37464, 2396],\n",
    "                      [31030, 1993],\n",
    "                      [24843, 1627],\n",
    "                      [36172, 2375],\n",
    "                      [39552, 2560],\n",
    "                      [72545, 4597],\n",
    "                      [75352, 4871],\n",
    "                      [18031, 1119]])"
   ]
  },
  {
   "cell_type": "markdown",
   "id": "assured-default",
   "metadata": {},
   "source": [
    "From the datasets above, tell what is $\\mathbf{X}$ and $\\mathbf{y}$. Extract:\n",
    "1. The $\\mathbf{X}$ matrix, where you will have a column to model the intercept;\n",
    "2. The $\\mathbf{y}$ vector\n",
    "\n",
    "from these arrays."
   ]
  },
  {
   "cell_type": "code",
   "execution_count": 183,
   "id": "compliant-canal",
   "metadata": {},
   "outputs": [
    {
     "name": "stdout",
     "output_type": "stream",
     "text": [
      "x : [36961 43621 15694 36231 29945 40588 75255 37709 30899 25486 37497 40398\n",
      " 74105 76725 18317]\n",
      "y : [2503 2992 1042 2487 2014 2805 5062 2643 2126 1784 2641 2766 5047 5312\n",
      " 1215]\n",
      "Model: [0.06830159 8.7253232 ]\n"
     ]
    }
   ],
   "source": [
    "# Write your code here\n",
    "X = np.array(np.transpose(stat_fr)[0])\n",
    "y = np.array(np.transpose(stat_fr)[1])\n",
    "print(\"x : {0}\".format(X))\n",
    "print(\"y : {0}\".format(y))\n",
    "model = np.polyfit(X, y, 1)\n",
    "print(\"Model: {0}\".format(model))"
   ]
  },
  {
   "cell_type": "markdown",
   "id": "exterior-concrete",
   "metadata": {},
   "source": [
    "Scale the arrays so that they fit in the range [0, 1] on the $x$ and $y$ axes. "
   ]
  },
  {
   "cell_type": "code",
   "execution_count": 184,
   "id": "generic-flour",
   "metadata": {},
   "outputs": [
    {
     "name": "stdout",
     "output_type": "stream",
     "text": [
      "[0.4711972891566265, 0.5632530120481928, 0.19615963855421686, 0.46818524096385544, 0.37914156626506024, 0.5280496987951807, 0.9529367469879518, 0.4975527108433735, 0.4002259036144578, 0.3358433734939759, 0.4971762048192771, 0.5207078313253012, 0.9501129518072289, 1.0, 0.22872740963855423]  :  5312\n",
      "[0.48173346366894754, 0.5685369827305311, 0.2045487129358097, 0.47221896383186707, 0.39028999674160963, 0.5290061909416748, 0.9808406647116324, 0.49148256761159986, 0.40272401433691757, 0.3321733463668948, 0.4887194525904203, 0.5265298142717497, 0.9658520690778756, 1.0, 0.23873574454219615]  :  76725\n",
      "[[76725]\n",
      " [ 5312]]\n"
     ]
    }
   ],
   "source": [
    "# Write your code here\n",
    "def norm(values):\n",
    "    ret_array = []\n",
    "    maximum = np.amax(values)\n",
    "    for i,v in enumerate(values):\n",
    "        ret_array.append(v/maximum)\n",
    "    return ret_array, maximum\n",
    "ny, y_max = norm(y)\n",
    "nX, X_max = norm(X)\n",
    "maxima = np.concatenate(([X_max], [y_max]))\n",
    "maxima = maxima.reshape(-1, 1)\n",
    "print(ny, \" : \", y_max)\n",
    "print(nX, \" : \", X_max)\n",
    "print(maxima)"
   ]
  },
  {
   "cell_type": "markdown",
   "id": "consecutive-interview",
   "metadata": {},
   "source": [
    "#### Gradient descent"
   ]
  },
  {
   "cell_type": "markdown",
   "id": "local-wheat",
   "metadata": {},
   "source": [
    "Implement the descent functions. You will pass `X`, `y`, the learning rate in the $\\alpha$ variable, the initial weight vector in `w`, the tolerance in the $\\epsilon$ variable, the maximal number of epochs in `epochs`. You will return `w`."
   ]
  },
  {
   "cell_type": "markdown",
   "id": "varying-oakland",
   "metadata": {},
   "source": [
    "Batch descent"
   ]
  },
  {
   "cell_type": "code",
   "execution_count": 185,
   "id": "entertaining-sentence",
   "metadata": {},
   "outputs": [],
   "source": [
    "# Write your code here\n",
    "def fit_batch(x, y, alpha, w,\n",
    "                  epochs=500,\n",
    "                  epsilon=1.0e-5):\n",
    "    noSamples = x.shape[0]\n",
    "    iterations = 0\n",
    "    converged = False\n",
    "    \n",
    "    while not converged:\n",
    "        \n",
    "        for x_i, y_i in zip(x,y):\n",
    "            y_hat = np.dot(w, np.array([1.0, x_i]))\n",
    "            gradient = np.array([1.0, x_i] * (y_i - y_hat))\n",
    "            w += alpha * gradient/noSamples\n",
    "            if np.linalg.norm(gradient) < epsilon:\n",
    "                converged = True\n",
    "                break\n",
    "        \n",
    "        iterations += 1\n",
    "        \n",
    "        if iterations == epochs:\n",
    "            converged = True\n",
    "    \n",
    "    return w\n",
    "\n",
    "def sse(X, y, w):\n",
    "    error = y - X @ w\n",
    "    return error.T @ error\n",
    "# https://www.bogotobogo.com/python/python_numpy_batch_gradient_descent_algorithm.php\n",
    "# https://www.youtube.com/watch?v=fxX9f4FplQg&ab_channel=EndlessEngineering"
   ]
  },
  {
   "cell_type": "markdown",
   "id": "forbidden-bicycle",
   "metadata": {},
   "source": [
    "Stochastic descent"
   ]
  },
  {
   "cell_type": "code",
   "execution_count": 186,
   "id": "bearing-thomson",
   "metadata": {},
   "outputs": [],
   "source": [
    "# Write your code here\n",
    "def fit_stoch(X, y, alpha, w,\n",
    "                  epochs=500,\n",
    "                  epsilon=1.0e-5):\n",
    "    x_index = list(range(len(X)))\n",
    "    random.seed(0)\n",
    "    iterations = 0 \n",
    "    while iterations < epochs:\n",
    "        random.shuffle(x_index)\n",
    "        for x_i in x_index:\n",
    "            loss = (y[x_i] - (X[x_i] @ w))*X[x_i].T\n",
    "            w = w + alpha * loss\n",
    "        if np.linalg.norm(loss) < epsilon:\n",
    "            break\n",
    "\n",
    "    iterations += 1\n",
    "    if iterations == epochs:\n",
    "        converged = True\n",
    "    return w"
   ]
  },
  {
   "cell_type": "markdown",
   "id": "rental-command",
   "metadata": {},
   "source": [
    "#### Applying batch descent"
   ]
  },
  {
   "cell_type": "markdown",
   "id": "spiritual-ghost",
   "metadata": {},
   "source": [
    "Apply the batch descent and print the final weight values "
   ]
  },
  {
   "cell_type": "code",
   "execution_count": 187,
   "id": "legal-discovery",
   "metadata": {},
   "outputs": [
    {
     "name": "stdout",
     "output_type": "stream",
     "text": [
      "Weights: [[0.0075255  0.97552638]]\n",
      "SSE: [[0.00111378]]\n"
     ]
    }
   ],
   "source": [
    "# Uses the normalized values and alpha = 1 :\n",
    "alpha = 1\n",
    "nXArray = np.array((nX))\n",
    "w = np.zeros((1,2))\n",
    "w = fit_batch(nXArray, ny, alpha, w)\n",
    "print(\"Weights: {0}\".format(w))\n",
    "ones = np.ones((15,1))\n",
    "nXOnes = np.column_stack((ones, nX))\n",
    "nyArray = np.array([ny]).T\n",
    "sseret = sse(nXOnes, nyArray, w.T)\n",
    "print(\"SSE: {0}\".format(sseret))"
   ]
  },
  {
   "cell_type": "markdown",
   "id": "junior-newfoundland",
   "metadata": {},
   "source": [
    "Visualize the points of your dataset as well as the regression lines you obtain using matplotlib or another similar program."
   ]
  },
  {
   "cell_type": "code",
   "execution_count": 188,
   "id": "artistic-direction",
   "metadata": {},
   "outputs": [
    {
     "data": {
      "image/png": "[encoded data removed]",
      "text/plain": [
       "<Figure size 432x288 with 1 Axes>"
      ]
     },
     "metadata": {
      "needs_background": "light"
     },
     "output_type": "display_data"
    }
   ],
   "source": [
    "# Plot x values and y values, not normalized:\n",
    "fig_y = [y_i * y_max for y_i in ny]\n",
    "fig_x = [nXOnes[i,1] * X_max for i in range(len(nXOnes))]\n",
    "# Plot the curve with the weight line, maybe sse as well?\n",
    "w_restored = w = maxima[-1, 0] * (w / maxima[:-1, 0:1])\n",
    "plt.scatter(fig_x, fig_y)\n",
    "plt.plot([min(fig_x), max(fig_x)],\n",
    "         [np.array([1, min(fig_x)]) @ w_restored.T, np.array([1, max(fig_x)]) @ w_restored.T])\n",
    "plt.show()"
   ]
  },
  {
   "cell_type": "markdown",
   "id": "recognized-minneapolis",
   "metadata": {},
   "source": [
    "#### Stochastic descent"
   ]
  },
  {
   "cell_type": "code",
   "execution_count": 189,
   "id": "opened-database",
   "metadata": {},
   "outputs": [
    {
     "name": "stdout",
     "output_type": "stream",
     "text": [
      "Weights: [-4.16530768e-04  9.61023420e-01]\n",
      "SSE: [[ 9.39946029e-01  8.52258000e-01  1.21995523e+00  9.49557480e-01\n",
      "   1.03232129e+00  8.92191603e-01  4.35753030e-01  9.30097584e-01\n",
      "   1.01976057e+00  1.09103013e+00  9.32888855e-01  8.94693213e-01\n",
      "   4.50894356e-01  4.16398465e-01  1.18541984e+00]\n",
      " [ 8.52258000e-01  8.68953955e-01  7.98943756e-01  8.50427963e-01\n",
      "   8.34669589e-01  8.61350527e-01  9.48257232e-01  8.54133162e-01\n",
      "   8.37061172e-01  8.23491322e-01  8.53601699e-01  8.60874216e-01\n",
      "   9.45374297e-01  9.51942375e-01  8.05519355e-01]\n",
      " [ 1.21995523e+00  7.98943756e-01  2.56434729e+00  1.26610214e+00\n",
      "   1.66347123e+00  9.90674659e-01 -1.20079755e+00  1.17267046e+00\n",
      "   1.60316418e+00  1.94534663e+00  1.18607203e+00  1.00268550e+00\n",
      "  -1.12810037e+00 -1.29372351e+00  2.39853451e+00]\n",
      " [ 9.49557480e-01  8.50427963e-01  1.26610214e+00  9.60423027e-01\n",
      "   1.05398581e+00  8.95572081e-01  3.79577644e-01  9.38424015e-01\n",
      "   1.03978618e+00  1.12035496e+00  9.41579489e-01  8.98400100e-01\n",
      "   3.96694603e-01  3.57697706e-01  1.22706059e+00]\n",
      " [ 1.03232129e+00  8.34669589e-01  1.66347123e+00  1.05398581e+00\n",
      "   1.24053815e+00  9.24681240e-01 -1.04146292e-01  1.01012257e+00\n",
      "   1.21222588e+00  1.37286982e+00  1.01641418e+00  9.30319953e-01\n",
      "  -7.00172453e-02 -1.47772117e-01  1.58562733e+00]\n",
      " [ 8.92191603e-01  8.61350527e-01  9.90674659e-01  8.95572081e-01\n",
      "   9.24681240e-01  8.75395720e-01  7.14860048e-01  8.88727770e-01\n",
      "   9.20263465e-01  9.45329943e-01  8.89709498e-01  8.76275570e-01\n",
      "   7.20185459e-01  7.08052784e-01  9.78528092e-01]\n",
      " [ 4.35753030e-01  9.48257232e-01 -1.20079755e+00  3.79577644e-01\n",
      "  -1.04146292e-01  7.14860048e-01  3.38257524e+00  4.93313562e-01\n",
      "  -3.07335279e-02 -4.47277859e-01  4.76999614e-01  7.00239057e-01\n",
      "   3.29407977e+00  3.49569554e+00 -9.98950926e-01]\n",
      " [ 9.30097584e-01  8.54133162e-01  1.17267046e+00  9.38424015e-01\n",
      "   1.01012257e+00  8.88727770e-01  4.93313562e-01  9.21565844e-01\n",
      "   9.99241177e-01  1.06098223e+00  9.23983931e-01  8.90894923e-01\n",
      "   5.06430542e-01  4.76546640e-01  1.14275234e+00]\n",
      " [ 1.01976057e+00  8.37061172e-01  1.60316418e+00  1.03978618e+00\n",
      "   1.21222588e+00  9.20263465e-01 -3.07335279e-02  9.99241177e-01\n",
      "   1.18605542e+00  1.33454669e+00  1.00505683e+00  9.25475610e-01\n",
      "   8.13665152e-04 -7.10590703e-02  1.53120915e+00]\n",
      " [ 1.09103013e+00  8.23491322e-01  1.94534663e+00  1.12035496e+00\n",
      "   1.37286982e+00  9.45329943e-01 -4.47277859e-01  1.06098223e+00\n",
      "   1.33454669e+00  1.55199227e+00  1.06949848e+00  9.52962431e-01\n",
      "  -4.01081218e-01 -5.06329218e-01  1.83997812e+00]\n",
      " [ 9.32888855e-01  8.53601699e-01  1.18607203e+00  9.41579489e-01\n",
      "   1.01641418e+00  8.89709498e-01  4.76999614e-01  9.23983931e-01\n",
      "   1.00505683e+00  1.06949848e+00  9.26507786e-01  8.91971444e-01\n",
      "   4.90690339e-01  4.59499296e-01  1.15484527e+00]\n",
      " [ 8.94693213e-01  8.60874216e-01  1.00268550e+00  8.98400100e-01\n",
      "   9.30319953e-01  8.76275570e-01  7.00239057e-01  8.90894923e-01\n",
      "   9.25475610e-01  9.52962431e-01  8.91971444e-01  8.77240376e-01\n",
      "   7.06078674e-01  6.92774504e-01  9.89366094e-01]\n",
      " [ 4.50894356e-01  9.45374297e-01 -1.12810037e+00  3.96694603e-01\n",
      "  -7.00172453e-02  7.20185459e-01  3.29407977e+00  5.06430542e-01\n",
      "   8.13665152e-04 -4.01081218e-01  4.90690339e-01  7.06078674e-01\n",
      "   3.20869660e+00  3.40322174e+00 -9.33352493e-01]\n",
      " [ 4.16398465e-01  9.51942375e-01 -1.29372351e+00  3.57697706e-01\n",
      "  -1.47772117e-01  7.08052784e-01  3.49569554e+00  4.76546640e-01\n",
      "  -7.10590703e-02 -5.06329218e-01  4.59499296e-01  6.92774504e-01\n",
      "   3.40322174e+00  3.61390118e+00 -1.08280284e+00]\n",
      " [ 1.18541984e+00  8.05519355e-01  2.39853451e+00  1.22706059e+00\n",
      "   1.58562733e+00  9.78528092e-01 -9.98950926e-01  1.14275234e+00\n",
      "   1.53120915e+00  1.83997812e+00  1.15484527e+00  9.89366094e-01\n",
      "  -9.33352493e-01 -1.08280284e+00  2.24891305e+00]]\n"
     ]
    }
   ],
   "source": [
    "# Normalized values here as well:\n",
    "alpha = 1 \n",
    "ones = np.ones((15,1))\n",
    "nyArray = np.array([ny]).T\n",
    "nXOnes = np.column_stack((ones, nX))\n",
    "w_stoch = np.array([0,0])\n",
    "w_stoch = fit_stoch(nXOnes, nyArray, alpha, w_stoch)\n",
    "print(\"Weights: {0}\".format(w_stoch))\n",
    "ssestoch = sse(nXOnes, nyArray, w_stoch.T)\n",
    "print(\"SSE: {0}\".format(ssestoch))"
   ]
  },
  {
   "cell_type": "markdown",
   "id": "radical-worthy",
   "metadata": {},
   "source": [
    "Visualize the points of your dataset as well as the regression lines you obtain using matplotlib or another similar program."
   ]
  },
  {
   "cell_type": "code",
   "execution_count": 190,
   "id": "labeled-header",
   "metadata": {},
   "outputs": [
    {
     "data": {
      "image/png": "[encoded data removed]",
      "text/plain": [
       "<Figure size 432x288 with 1 Axes>"
      ]
     },
     "metadata": {
      "needs_background": "light"
     },
     "output_type": "display_data"
    }
   ],
   "source": [
    "# Plot x values and y values, not normalized:\n",
    "fig_y = [y_i * y_max for y_i in nyArray]\n",
    "fig_x = [nXOnes[i,1] * X_max for i in range(len(nXOnes))]\n",
    "w_stochRestored = maxima[-1, 0] * (w_stoch / maxima[:-1, 0:1])\n",
    "plt.scatter(fig_x, fig_y)\n",
    "plt.plot([min(fig_x), max(fig_x)],\n",
    "         [np.array([1, min(fig_x)]) @ w_stochRestored.T, np.array([1, max(fig_x)]) @ w_stochRestored.T])\n",
    "plt.show()"
   ]
  },
  {
   "cell_type": "markdown",
   "id": "metallic-egypt",
   "metadata": {},
   "source": [
    "### A solution to linear regression\n",
    "\n",
    "To help you start this assignment, your instructor wrote two Python notebooks that solve this exercise on linear regression. You can find them here: https://github.com/pnugues/ilppp/tree/master/programs/ch04/python\n",
    "The first notebook, `gradient_descent.ipynb`, only uses Python and vector operations such as the dot product that are in the `vector.py` file.\n",
    "The second notebook, `gradient_descent_numpy.ipynb`, uses Numpy. It is more compact, but you need to know a bit of numpy.\n",
    "\n",
    "To run these programs, download them on your computer as well as the other program in the import list: vector.py\n",
    "\n",
    "The programs are also available as Python programs from\n",
    "https://github.com/pnugues/ilppp/tree/master/programs/ch04/python"
   ]
  },
  {
   "cell_type": "markdown",
   "id": "distinguished-blade",
   "metadata": {},
   "source": [
    "## Classification\n",
    "You will use the same data set as for linear regression, but this time to classify a chapter as French or English. Given a pair of numbers corresponding the letter count and count of _A_, you will predict the language:\n",
    "1. $\\mathbf{x} = (35680, 2217)$ $\\to$ $y$ = English\n",
    "2. $\\mathbf{x} = (37497, 2641)$ $\\to$ $y$ = French"
   ]
  },
  {
   "cell_type": "markdown",
   "id": "reasonable-alberta",
   "metadata": {},
   "source": [
    "### The dataset\n",
    "You will use the arrays below:\n",
    "1. `X` contains the counts of letters and of _A_ s as well as a column of ones for the intercept;\n",
    "2. `y` contains the classes, where 0 is for English and 1 for French."
   ]
  },
  {
   "cell_type": "code",
   "execution_count": 191,
   "id": "under-capability",
   "metadata": {},
   "outputs": [],
   "source": [
    "X = [[1.0, 35680.0, 2217.0],\n",
    "     [1.0, 42514.0, 2761.0],\n",
    "     [1.0, 15162.0, 990.0],\n",
    "     [1.0, 35298.0, 2274.0],\n",
    "     [1.0, 29800.0, 1865.0],\n",
    "     [1.0, 40255.0, 2606.0],\n",
    "     [1.0, 74532.0, 4805.0],\n",
    "     [1.0, 37464.0, 2396.0],\n",
    "     [1.0, 31030.0, 1993.0],\n",
    "     [1.0, 24843.0, 1627.0],\n",
    "     [1.0, 36172.0, 2375.0],\n",
    "     [1.0, 39552.0, 2560.0],\n",
    "     [1.0, 72545.0, 4597.0],\n",
    "     [1.0, 75352.0, 4871.0],\n",
    "     [1.0, 18031.0, 1119.0],\n",
    "     [1.0, 36961.0, 2503.0],\n",
    "     [1.0, 43621.0, 2992.0],\n",
    "     [1.0, 15694.0, 1042.0],\n",
    "     [1.0, 36231.0, 2487.0],\n",
    "     [1.0, 29945.0, 2014.0],\n",
    "     [1.0, 40588.0, 2805.0],\n",
    "     [1.0, 75255.0, 5062.0],\n",
    "     [1.0, 37709.0, 2643.0],\n",
    "     [1.0, 30899.0, 2126.0],\n",
    "     [1.0, 25486.0, 1784.0],\n",
    "     [1.0, 37497.0, 2641.0],\n",
    "     [1.0, 40398.0, 2766.0],\n",
    "     [1.0, 74105.0, 5047.0],\n",
    "     [1.0, 76725.0, 5312.0],\n",
    "     [1.0, 18317.0, 1215.0]]\n",
    "y = [0.0, 0.0, 0.0, 0.0, 0.0, 0.0, 0.0, 0.0, 0.0, 0.0, 0.0, 0.0, 0.0, 0.0, 0.0,\n",
    "     1.0, 1.0, 1.0, 1.0, 1.0, 1.0, 1.0, 1.0, 1.0, 1.0, 1.0, 1.0, 1.0, 1.0, 1.0]"
   ]
  },
  {
   "cell_type": "markdown",
   "id": "controlled-replacement",
   "metadata": {},
   "source": [
    "We visualize it"
   ]
  },
  {
   "cell_type": "code",
   "execution_count": 192,
   "id": "passing-rescue",
   "metadata": {},
   "outputs": [],
   "source": [
    "x_fr = [x[1] for i, x in enumerate(X) if y[i] == 1]\n",
    "y_fr = [x[2] for i, x in enumerate(X) if y[i] == 1]\n",
    "x_en = [x[1] for i, x in enumerate(X) if y[i] == 0]\n",
    "y_en = [x[2] for i, x in enumerate(X) if y[i] == 0]"
   ]
  },
  {
   "cell_type": "code",
   "execution_count": 193,
   "id": "floral-tracy",
   "metadata": {},
   "outputs": [
    {
     "data": {
      "text/plain": [
       "<matplotlib.collections.PathCollection at 0x1fcab76f128>"
      ]
     },
     "execution_count": 193,
     "metadata": {},
     "output_type": "execute_result"
    },
    {
     "data": {
      "image/png": "[encoded data removed]",
      "text/plain": [
       "<Figure size 432x288 with 1 Axes>"
      ]
     },
     "metadata": {
      "needs_background": "light"
     },
     "output_type": "display_data"
    }
   ],
   "source": [
    "plt.scatter(x_fr, y_fr, color='red')\n",
    "plt.scatter(x_en, y_en, color='blue')"
   ]
  },
  {
   "cell_type": "markdown",
   "id": "frank-thursday",
   "metadata": {},
   "source": [
    "### Normalize the dataset"
   ]
  },
  {
   "cell_type": "markdown",
   "id": "hindu-organ",
   "metadata": {},
   "source": [
    "Gradient descent algorithms can be very sensitive to the range. Therefore, we normalize the dataset."
   ]
  },
  {
   "cell_type": "code",
   "execution_count": 194,
   "id": "metropolitan-framing",
   "metadata": {},
   "outputs": [],
   "source": [
    "def normalize(observations):\n",
    "    maxima = [max([obs[i] for obs in observations]) for i in range(len(observations[0]))]\n",
    "    return ([[obs[i] / maxima[i]\n",
    "              for i in range(len(observations[0]))] for obs in observations],\n",
    "            maxima)"
   ]
  },
  {
   "cell_type": "code",
   "execution_count": 195,
   "id": "molecular-riverside",
   "metadata": {},
   "outputs": [
    {
     "data": {
      "text/plain": [
       "[[1.0, 0.4650374714890844, 0.4173569277108434],\n",
       " [1.0, 0.5541088302378625, 0.5197665662650602],\n",
       " [1.0, 0.19761485826001954, 0.18637048192771086],\n",
       " [1.0, 0.460058651026393, 0.42808734939759036],\n",
       " [1.0, 0.3884001303356142, 0.3510918674698795],\n",
       " [1.0, 0.5246660149885957, 0.49058734939759036],\n",
       " [1.0, 0.9714173998044966, 0.9045557228915663],\n",
       " [1.0, 0.4882893450635386, 0.4510542168674699],\n",
       " [1.0, 0.4044314108830238, 0.37518825301204817],\n",
       " [1.0, 0.32379276637341153, 0.30628765060240964],\n",
       " [1.0, 0.47144998370804825, 0.4471009036144578],\n",
       " [1.0, 0.5155034213098729, 0.4819277108433735],\n",
       " [1.0, 0.9455197132616487, 0.8653990963855421],\n",
       " [1.0, 0.9821049201694363, 0.916980421686747],\n",
       " [1.0, 0.2350081459758879, 0.21065512048192772],\n",
       " [1.0, 0.48173346366894754, 0.4711972891566265],\n",
       " [1.0, 0.5685369827305311, 0.5632530120481928],\n",
       " [1.0, 0.2045487129358097, 0.19615963855421686],\n",
       " [1.0, 0.47221896383186707, 0.46818524096385544],\n",
       " [1.0, 0.39028999674160963, 0.37914156626506024],\n",
       " [1.0, 0.5290061909416748, 0.5280496987951807],\n",
       " [1.0, 0.9808406647116324, 0.9529367469879518],\n",
       " [1.0, 0.49148256761159986, 0.4975527108433735],\n",
       " [1.0, 0.40272401433691757, 0.4002259036144578],\n",
       " [1.0, 0.3321733463668948, 0.3358433734939759],\n",
       " [1.0, 0.4887194525904203, 0.4971762048192771],\n",
       " [1.0, 0.5265298142717497, 0.5207078313253012],\n",
       " [1.0, 0.9658520690778756, 0.9501129518072289],\n",
       " [1.0, 1.0, 1.0],\n",
       " [1.0, 0.23873574454219615, 0.22872740963855423]]"
      ]
     },
     "execution_count": 195,
     "metadata": {},
     "output_type": "execute_result"
    }
   ],
   "source": [
    "X_norm, maxima = normalize(X)\n",
    "X_norm"
   ]
  },
  {
   "cell_type": "markdown",
   "id": "arctic-adelaide",
   "metadata": {},
   "source": [
    "## The Perceptron\n",
    "\n",
    "1. Write the perceptron program as explained in pages 723--725 in Russell-Norvig and in the slides and run it on your data set. As suggested program structure, use two functions: \n",
    " * `fit(X, y)` that will return `w` (the model). You can choose a stochastic or batch variant;\n",
    " * `predict(X, w)` that will return `y_hat`. You can encapsulate these functions in a class and, of course, add more parameters.\n",
    "2. As a stop criterion, you will use the number of misclassified examples.\n",
    "3. You will report the parameters you have used and the weight vector\n",
    "\n",
    "You can use numpy or not. The next cells are just suggested steps. You can implement it your way."
   ]
  },
  {
   "cell_type": "markdown",
   "id": "current-lancaster",
   "metadata": {},
   "source": [
    "### The `predict(X, w)` function\n",
    "Write a `predict(X, w)` function that given a matrix of observations $\\mathbf{X}$ and a weight vector $\\mathbf{w}$ will return a $\\mathbf{\\hat{y}}$ vector classes (0 or 1)"
   ]
  },
  {
   "cell_type": "code",
   "execution_count": 196,
   "id": "convinced-stupid",
   "metadata": {},
   "outputs": [],
   "source": [
    "# Write your code here\n",
    "def predict(w, X):\n",
    "    # Find if the book is english or french given X and w:\n",
    "    if w @ X > 0:\n",
    "        return 1\n",
    "    else:\n",
    "        return 0"
   ]
  },
  {
   "cell_type": "markdown",
   "id": "equipped-mileage",
   "metadata": {},
   "source": [
    "### The `fit(X, y)` function"
   ]
  },
  {
   "cell_type": "markdown",
   "id": "serious-increase",
   "metadata": {},
   "source": [
    "Write a `fit(X, y)` function that given a matrix of observations $\\mathbf{X}$ and a vector of responses $\\mathbf{y}$ will return a weight $\\mathbf{w}$ vector. You may use the other arguments of the function, notably the number of misclassified examples to define the stop condition."
   ]
  },
  {
   "cell_type": "code",
   "execution_count": 197,
   "id": "measured-hello",
   "metadata": {},
   "outputs": [],
   "source": [
    "# Write your code here\n",
    "import random\n",
    "def fit_stoch(X, y, w,\n",
    "              epochs=1000,\n",
    "              max_misclassified=1, \n",
    "              max_iter = 500,\n",
    "              verbose=True):\n",
    "    iterations = 1\n",
    "    X = np.array(X)\n",
    "    y = np.array(y).reshape(len(y),1)\n",
    "    w = np.array(w)\n",
    "    learn_rate = 1\n",
    "    while iterations < max_iter:\n",
    "        misclassified = 0\n",
    "        order = np.arange(len(y))\n",
    "        random.shuffle(order)\n",
    "        for idx in order:\n",
    "            sample = X[idx, :]\n",
    "            lbl = y[idx]\n",
    "            pred = predict(w, sample)\n",
    "            w = w + learn_rate*(lbl - pred)*sample\n",
    "            \n",
    "            if pred != lbl:\n",
    "                misclassified += 1\n",
    "        learn_rate = 1000/(1000+iterations)\n",
    "        if misclassified <= max_misclassified:\n",
    "            break\n",
    "    return w"
   ]
  },
  {
   "cell_type": "markdown",
   "id": "silent-louisville",
   "metadata": {},
   "source": [
    "### Fitting the dataset"
   ]
  },
  {
   "cell_type": "code",
   "execution_count": 198,
   "id": "silver-simpson",
   "metadata": {},
   "outputs": [
    {
     "data": {
      "text/plain": [
       "array([-9.99000999e-04, -4.21523821e+00,  4.41285014e+00])"
      ]
     },
     "execution_count": 198,
     "metadata": {},
     "output_type": "execute_result"
    }
   ],
   "source": [
    "w = fit_stoch(X_norm, y, [0,0,0])\n",
    "w"
   ]
  },
  {
   "cell_type": "code",
   "execution_count": 199,
   "id": "quarterly-stadium",
   "metadata": {},
   "outputs": [
    {
     "name": "stdout",
     "output_type": "stream",
     "text": [
      "Restored weights [-5.306693306692537, -0.2918389753586286, 4.412850139318521]\n",
      "Weights with y set to 1 [-1.2025546164393548, -0.06613389672092909, 1.0]\n"
     ]
    }
   ],
   "source": [
    "w = [w[i] * maxima[-1] / maxima[i] for i in range(len(w))]\n",
    "print(\"Restored weights\", w)\n",
    "w = [w[j] / w[-1] for j in range(len(w))]\n",
    "print(\"Weights with y set to 1\", w)"
   ]
  },
  {
   "cell_type": "markdown",
   "id": "significant-bearing",
   "metadata": {},
   "source": [
    "### Visualizing the results"
   ]
  },
  {
   "cell_type": "code",
   "execution_count": 200,
   "id": "incorrect-profile",
   "metadata": {},
   "outputs": [
    {
     "data": {
      "text/plain": [
       "[<matplotlib.lines.Line2D at 0x1fcab76f7b8>]"
      ]
     },
     "execution_count": 200,
     "metadata": {},
     "output_type": "execute_result"
    },
    {
     "data": {
      "image/png": "[encoded data removed]",
      "text/plain": [
       "<Figure size 432x288 with 1 Axes>"
      ]
     },
     "metadata": {
      "needs_background": "light"
     },
     "output_type": "display_data"
    }
   ],
   "source": [
    "plt.scatter(x_fr, y_fr, color='red')\n",
    "plt.scatter(x_en, y_en, color='blue')\n",
    "plt.plot([min(x_fr + x_en), max(x_fr + x_en)],\n",
    "             [-w[1] * min(x_fr + x_en) - w[0], -w[1] * max(x_fr + x_en) - w[0]])"
   ]
  },
  {
   "cell_type": "markdown",
   "id": "virgin-patch",
   "metadata": {},
   "source": [
    "### Evaluation\n",
    "Evaluate your perceptron using the leave-one-out cross validation method. You will have to train and run 30 models. In each train/run session, you will train on 29 samples and evaluate on the remaining sample. You have then either a correct or a wrong classification. You will sum these classifications, i.e. the number of correct classifications, to get your final evaluation, for instance 29/30."
   ]
  },
  {
   "cell_type": "code",
   "execution_count": 201,
   "id": "original-preference",
   "metadata": {},
   "outputs": [],
   "source": [
    "# Write your code here\n",
    "def leave_one_out_cross_val(X, y, fitting_function):\n",
    "    points = len(y)\n",
    "    cnt = 0\n",
    "    w = [0,0,0]\n",
    "    \n",
    "    for p in range(points):\n",
    "        X_point = X[p]\n",
    "        y_point = y[p]\n",
    "        \n",
    "        X = np.delete(X, p, 0)\n",
    "        y = np.delete(y, p)\n",
    "        \n",
    "        w = fitting_function(X, y, w)\n",
    "        \n",
    "        if isCorrect(X_point, y_point, w):\n",
    "            cnt += 1\n",
    "        \n",
    "        X = np.insert(X, p, X_point, 0)\n",
    "        y = np.insert(y, p, y_point)\n",
    "        \n",
    "    return cnt, points\n",
    "        \n",
    "        \n",
    "    \n",
    "def isCorrect(X, y, w):\n",
    "    if (w @ X > 0 and y == 1):\n",
    "        return True\n",
    "    elif (w @ X < 0 and y == 0):\n",
    "        return True\n",
    "    return False"
   ]
  },
  {
   "cell_type": "code",
   "execution_count": 202,
   "id": "broken-bibliography",
   "metadata": {},
   "outputs": [
    {
     "name": "stdout",
     "output_type": "stream",
     "text": [
      "Cross-validation accuracy (stochastic): (30, 30)\n"
     ]
    }
   ],
   "source": [
    "stoch_accuracy = leave_one_out_cross_val(X_norm, y, fit_stoch)\n",
    "print('Cross-validation accuracy (stochastic):', stoch_accuracy)"
   ]
  },
  {
   "cell_type": "markdown",
   "id": "pretty-factor",
   "metadata": {},
   "source": [
    "## Logistic Regression\n",
    "From your perceptron program, implement logistic regression. You can either follow the description from the textbook, S. Russell and R. Norvig, _Artificial Intelligence_, 2010, pages 725--727, or the slides. You can either implement the stochastic or the batch version of the algorithm, or both versions. As stop criterion, you will use either the norm of the gradient or the norm of the difference between two consecutive weight vectors. You will also set a maximal number of epochs. Run the resulting program on your data set."
   ]
  },
  {
   "cell_type": "markdown",
   "id": "joint-attachment",
   "metadata": {},
   "source": [
    "Write the logistic function, where the $x$ input is a real number."
   ]
  },
  {
   "cell_type": "code",
   "execution_count": 203,
   "id": "previous-baltimore",
   "metadata": {},
   "outputs": [],
   "source": [
    "# Write your code here\n",
    "# Based on slide 36 of ML 2 lecture:\n",
    "def logistic(x):\n",
    "    try:\n",
    "        return 1/(1+math.exp(-x))\n",
    "    except:\n",
    "        return 0"
   ]
  },
  {
   "cell_type": "markdown",
   "id": "aggressive-blackberry",
   "metadata": {},
   "source": [
    "### The `predict(X, w)` function"
   ]
  },
  {
   "cell_type": "markdown",
   "id": "alone-nightmare",
   "metadata": {},
   "source": [
    "Write a `predict_proba()` function that given a matrix of observations $\\mathbf{X}$ and a weight vector $\\mathbf{w}$ will return a vector of probabilities to belong to class 1: The vector will consist of $P(1|\\mathbf{x}_i)$ for all the $i$ rows of $\\mathbf{X}$."
   ]
  },
  {
   "cell_type": "code",
   "execution_count": 204,
   "id": "systematic-persian",
   "metadata": {},
   "outputs": [],
   "source": [
    "# Write your code here\n",
    "def predict_proba(X, w):\n",
    "    predictions = np.zeros(len(X))\n",
    "    w = np.array(w)\n",
    "    predictions = logistic(w @ X)\n",
    "    return predictions\n",
    "    "
   ]
  },
  {
   "cell_type": "markdown",
   "id": "accepting-hollow",
   "metadata": {},
   "source": [
    "Write a `predict(X, w)` function that given a matrix of observations $\\mathbf{X}$ and a weight vector $\\mathbf{w}$ will return the class. You will use `predict_proba()` and set the threshold to belong to class 1 to 0.5."
   ]
  },
  {
   "cell_type": "code",
   "execution_count": 205,
   "id": "liked-building",
   "metadata": {},
   "outputs": [],
   "source": [
    "# Write your code here\n",
    "def predict(X, w):\n",
    "    p_tot = 1\n",
    "    predictions = predict_proba(X, w)\n",
    "    if predictions > 0.5:\n",
    "        return 1\n",
    "    else:\n",
    "        return 0"
   ]
  },
  {
   "cell_type": "markdown",
   "id": "integral-measurement",
   "metadata": {},
   "source": [
    "### The `fit(X, y)` function"
   ]
  },
  {
   "cell_type": "markdown",
   "id": "mineral-costume",
   "metadata": {},
   "source": [
    "You will now write the `fit(X, y)` function as with the perceptron. You may call it `fit_stoch(X, y)` or `fit_batch(X, y)`. Use the parameters given in the cell below."
   ]
  },
  {
   "cell_type": "code",
   "execution_count": 206,
   "id": "czech-football",
   "metadata": {},
   "outputs": [],
   "source": [
    "# Write your code here\n",
    "import random\n",
    "def fit_stoch(X, y, alpha=100,\n",
    "              epochs=1000,\n",
    "              epsilon=1.0e-4,\n",
    "              verbose=False):\n",
    "    iterations = 1\n",
    "    X = np.array(X)\n",
    "    y = np.array(y).reshape(len(y),1)\n",
    "    w = np.array([0,0,0])\n",
    "    alpha=100\n",
    "    while iterations < epochs:\n",
    "        order = np.arange(len(y))\n",
    "        random.shuffle(order)\n",
    "        for idx in order:\n",
    "            sample = X[idx, :]\n",
    "            lbl = y[idx]\n",
    "            pred = logistic(w @ sample)\n",
    "            w_old = w # Used to set a stop criteria - didn't work for me \n",
    "            w = w + alpha*sample*(lbl - pred)\n",
    "            \n",
    "        iterations += 1\n",
    "    return w"
   ]
  },
  {
   "cell_type": "code",
   "execution_count": 207,
   "id": "comprehensive-lafayette",
   "metadata": {},
   "outputs": [
    {
     "data": {
      "text/plain": [
       "array([ 2.85011843e+00, -3.20615454e+03,  3.35780517e+03])"
      ]
     },
     "execution_count": 207,
     "metadata": {},
     "output_type": "execute_result"
    }
   ],
   "source": [
    "w = fit_stoch(X_norm, y, verbose=True)\n",
    "w"
   ]
  },
  {
   "cell_type": "code",
   "execution_count": 208,
   "id": "demographic-algorithm",
   "metadata": {},
   "outputs": [
    {
     "name": "stdout",
     "output_type": "stream",
     "text": [
      "Restored weights [2.8501184313354795, -0.0417876121516445, 0.6321169371213758]\n",
      "Weights with y set to 1 [4.50884680343285, -0.06610740781910207, 1.0]\n"
     ]
    }
   ],
   "source": [
    "w = [w[i] / maxima[i] for i in range(len(w))]\n",
    "print(\"Restored weights\", w)\n",
    "w = [w[j] / w[-1] for j in range(len(w))]\n",
    "print(\"Weights with y set to 1\", w)"
   ]
  },
  {
   "cell_type": "markdown",
   "id": "classified-yeast",
   "metadata": {},
   "source": [
    "### Visualizing the results"
   ]
  },
  {
   "cell_type": "code",
   "execution_count": 209,
   "id": "subject-consideration",
   "metadata": {},
   "outputs": [
    {
     "data": {
      "image/png": "[encoded data removed]",
      "text/plain": [
       "<Figure size 432x288 with 1 Axes>"
      ]
     },
     "metadata": {
      "needs_background": "light"
     },
     "output_type": "display_data"
    }
   ],
   "source": [
    "plt.scatter(x_fr, y_fr, color='red')\n",
    "plt.scatter(x_en, y_en, color='blue')\n",
    "plt.plot([min(x_fr + x_en), max(x_fr + x_en)],\n",
    "         [-w[1] * min(x_fr + x_en) - w[0], -w[1] * max(x_fr + x_en) - w[0]])\n",
    "plt.show()"
   ]
  },
  {
   "cell_type": "markdown",
   "id": "usual-convertible",
   "metadata": {},
   "source": [
    "### Evaluation\n",
    "Evaluate your logistic regression using the leave-one-out cross validation method as with the perceptron"
   ]
  },
  {
   "cell_type": "code",
   "execution_count": 210,
   "id": "beginning-authority",
   "metadata": {},
   "outputs": [],
   "source": [
    "# Write your code here\n",
    "def leave_one_out_cross_val(X, y, fitting_function):\n",
    "    points = len(y)\n",
    "    cnt = 0\n",
    "    w = [0,0,0]\n",
    "    \n",
    "    for p in range(points):\n",
    "        X_point = X[p]\n",
    "        y_point = y[p]\n",
    "        \n",
    "        X = np.delete(X, p, axis=0)\n",
    "        y = np.delete(y, p)\n",
    "        \n",
    "        w = fitting_function(X, y, w)\n",
    "        if isCorrect(predict(X_point, w), y_point):\n",
    "            cnt += 1\n",
    "        \n",
    "        X = np.insert(X, p, X_point, axis=0)\n",
    "        y = np.insert(y, p, y_point)\n",
    "        \n",
    "    return cnt, points\n",
    "        \n",
    "        \n",
    "    \n",
    "def isCorrect(prediction, y):\n",
    "    if (prediction == 1 and y == 1):\n",
    "        return True\n",
    "    elif (prediction == 0 and y == 0):\n",
    "        return True\n",
    "    return False"
   ]
  },
  {
   "cell_type": "code",
   "execution_count": 211,
   "id": "distributed-candle",
   "metadata": {},
   "outputs": [
    {
     "name": "stdout",
     "output_type": "stream",
     "text": [
      "Cross-validation accuracy (batch): (30, 30)\n"
     ]
    }
   ],
   "source": [
    "stoch_accuracy = leave_one_out_cross_val(X, y, fit_stoch)\n",
    "print('Cross-validation accuracy (batch):', stoch_accuracy)"
   ]
  },
  {
   "cell_type": "markdown",
   "id": "handed-syndrome",
   "metadata": {},
   "source": [
    "## Visualizing the logistic surface"
   ]
  },
  {
   "cell_type": "code",
   "execution_count": 212,
   "id": "russian-lobby",
   "metadata": {},
   "outputs": [],
   "source": [
    "def plot_logistic_surf(x_range, y_range, w_opt):\n",
    "    z_axis = np.array([[0.0] * len(y_range) for i in range(len(x_range))])\n",
    "    x_axis, y_axis = np.meshgrid(x_range, y_range)\n",
    "    z_axis = z_axis.reshape(x_axis.shape)\n",
    "\n",
    "    # We compute the probability surface as a function of x and y\n",
    "    for i in range(len(x_range)):\n",
    "        for j in range(len(y_range)):\n",
    "            z_axis[j, i] = logistic(np.dot([1, x_range[i], y_range[j]], w_opt))\n",
    "    return x_axis, y_axis, z_axis"
   ]
  },
  {
   "cell_type": "code",
   "execution_count": 213,
   "id": "earlier-permission",
   "metadata": {},
   "outputs": [
    {
     "data": {
      "image/png": "[encoded data removed]",
      "text/plain": [
       "<Figure size 432x288 with 2 Axes>"
      ]
     },
     "metadata": {
      "needs_background": "light"
     },
     "output_type": "display_data"
    }
   ],
   "source": [
    "x_range = np.linspace(0, 100000, 200)\n",
    "y_range = np.linspace(0, 10000, 200)\n",
    "#w = [2.073225839414742, -0.049125455233437906, 0.7440143556104162]\n",
    "\n",
    "x_axis, y_axis, z_axis = plot_logistic_surf(x_range, y_range, w)\n",
    "\n",
    "fig = plt.figure()\n",
    "ax = Axes3D(fig)\n",
    "# ax = fig.gca(projection='3d')\n",
    "\n",
    "surf = ax.plot_surface(y_axis, x_axis, z_axis, rstride=1, cstride=1, cmap=cm.coolwarm,\n",
    "                       linewidth=0, antialiased=False, alpha=0.2)\n",
    "fig.colorbar(surf, shrink=0.5, aspect=5)\n",
    "# We plot the observations\n",
    "for x, y_class in zip(X, y):\n",
    "    if y_class == 1:\n",
    "        ax.scatter(x[2], x[1], y_class, color='green', marker='x')\n",
    "    else:\n",
    "        ax.scatter(x[2], x[1], y_class, color='red', marker='x')\n",
    "\n",
    "ax.elev = 30 \n",
    "ax.azim = -150\n",
    "plt.show()"
   ]
  },
  {
   "cell_type": "markdown",
   "id": "extensive-controversy",
   "metadata": {},
   "source": [
    "## Programming logistic regression with popular APIs\n",
    "Should you use logistic regression in a project, you will probably resort to existing libraries. In the next cells, you will apply the logistic regression classification with two popular APIs:\n",
    "1. sklearn\n",
    "2. Keras\n",
    "\n",
    "`sklearn` is included in anaconda.\n",
    "You will install the rest with:\n",
    "```\n",
    "pip install --upgrade keras tensorflow tensorflow-addons \n",
    "```\n",
    "You will read and run the code in the cells below."
   ]
  },
  {
   "cell_type": "markdown",
   "id": "widespread-italic",
   "metadata": {},
   "source": [
    "All these APIs are built on numpy and we convert the dataset into numpy if you have not done it already"
   ]
  },
  {
   "cell_type": "code",
   "execution_count": 214,
   "id": "suburban-muscle",
   "metadata": {},
   "outputs": [],
   "source": [
    "X = np.array(X)\n",
    "X_norm = np.array(X_norm)\n",
    "y = np.array(y)"
   ]
  },
  {
   "cell_type": "markdown",
   "id": "occasional-discharge",
   "metadata": {},
   "source": [
    "They also handle the intercept so we do not need the first column of ones."
   ]
  },
  {
   "cell_type": "code",
   "execution_count": 215,
   "id": "technological-fourth",
   "metadata": {},
   "outputs": [],
   "source": [
    "X = X[:, 1:]\n",
    "X_norm = X_norm[:, 1:]"
   ]
  },
  {
   "cell_type": "markdown",
   "id": "filled-peter",
   "metadata": {},
   "source": [
    "### sklearn\n",
    "Using the dataset of English and French datapoints, we apply logistic regression with the sklearn API. We need the `LogisticRegression` class, the fit() and predict() functions. The weights are in the `coef_` field."
   ]
  },
  {
   "cell_type": "code",
   "execution_count": 216,
   "id": "eight-judges",
   "metadata": {},
   "outputs": [
    {
     "data": {
      "text/plain": [
       "array([[-0.03372363,  0.51169867]])"
      ]
     },
     "execution_count": 216,
     "metadata": {},
     "output_type": "execute_result"
    }
   ],
   "source": [
    "from sklearn.linear_model import LogisticRegression\n",
    "model = LogisticRegression()\n",
    "model = model.fit(X, y)\n",
    "model.coef_"
   ]
  },
  {
   "cell_type": "markdown",
   "id": "directed-columbus",
   "metadata": {},
   "source": [
    "We predict the classes of the $\\mathbf{X}$ with the `predict()` function"
   ]
  },
  {
   "cell_type": "code",
   "execution_count": 217,
   "id": "historic-championship",
   "metadata": {},
   "outputs": [
    {
     "data": {
      "text/plain": [
       "array([0., 0., 0., 0., 0., 0., 0., 0., 0., 0., 0., 0., 0., 0., 0., 1., 1.,\n",
       "       1., 1., 1., 1., 1., 1., 1., 1., 1., 1., 1., 1., 1.])"
      ]
     },
     "execution_count": 217,
     "metadata": {},
     "output_type": "execute_result"
    }
   ],
   "source": [
    "model.predict(X)"
   ]
  },
  {
   "cell_type": "markdown",
   "id": "difficult-store",
   "metadata": {},
   "source": [
    "We predict the class probabilities of the $\\mathbf{X}$ with the `predict_proba()` function"
   ]
  },
  {
   "cell_type": "code",
   "execution_count": 218,
   "id": "parliamentary-article",
   "metadata": {},
   "outputs": [
    {
     "data": {
      "text/plain": [
       "array([[1.00000000e+00, 1.28980319e-30],\n",
       "       [9.99999999e-01, 8.16295157e-10],\n",
       "       [9.91302434e-01, 8.69756611e-03],\n",
       "       [1.00000000e+00, 2.35657080e-12],\n",
       "       [1.00000000e+00, 1.01085544e-22],\n",
       "       [1.00000000e+00, 3.56287478e-11],\n",
       "       [1.00000000e+00, 1.62389438e-24],\n",
       "       [1.00000000e+00, 5.76610689e-17],\n",
       "       [1.00000000e+00, 2.72458519e-12],\n",
       "       [9.94843591e-01, 5.15640906e-03],\n",
       "       [9.89714656e-01, 1.02853437e-02],\n",
       "       [1.00000000e+00, 4.22127774e-11],\n",
       "       [1.00000000e+00, 1.22665951e-41],\n",
       "       [1.00000000e+00, 7.37721442e-22],\n",
       "       [1.00000000e+00, 3.90177203e-16],\n",
       "       [1.33226763e-15, 1.00000000e+00],\n",
       "       [0.00000000e+00, 1.00000000e+00],\n",
       "       [1.92390717e-02, 9.80760928e-01],\n",
       "       [0.00000000e+00, 1.00000000e+00],\n",
       "       [1.01629571e-09, 9.99999999e-01],\n",
       "       [0.00000000e+00, 1.00000000e+00],\n",
       "       [0.00000000e+00, 1.00000000e+00],\n",
       "       [0.00000000e+00, 1.00000000e+00],\n",
       "       [0.00000000e+00, 1.00000000e+00],\n",
       "       [0.00000000e+00, 1.00000000e+00],\n",
       "       [0.00000000e+00, 1.00000000e+00],\n",
       "       [0.00000000e+00, 1.00000000e+00],\n",
       "       [0.00000000e+00, 1.00000000e+00],\n",
       "       [0.00000000e+00, 1.00000000e+00],\n",
       "       [1.80182968e-02, 9.81981703e-01]])"
      ]
     },
     "execution_count": 218,
     "metadata": {},
     "output_type": "execute_result"
    }
   ],
   "source": [
    "model.predict_proba(X)"
   ]
  },
  {
   "cell_type": "markdown",
   "id": "formed-hometown",
   "metadata": {},
   "source": [
    "### Keras\n",
    "Using the dataset of English and French datapoints, we apply logistic regression with Keras. We need the `Sequential` and `Dense` classes."
   ]
  },
  {
   "cell_type": "code",
   "execution_count": 219,
   "id": "numerical-psychiatry",
   "metadata": {},
   "outputs": [],
   "source": [
    "from tensorflow.keras import Sequential \n",
    "from tensorflow.keras.layers import Dense"
   ]
  },
  {
   "cell_type": "code",
   "execution_count": 220,
   "id": "informed-explanation",
   "metadata": {},
   "outputs": [
    {
     "name": "stdout",
     "output_type": "stream",
     "text": [
      "Model: \"sequential_4\"\n",
      "_________________________________________________________________\n",
      "Layer (type)                 Output Shape              Param #   \n",
      "=================================================================\n",
      "dense_4 (Dense)              (None, 1)                 3         \n",
      "=================================================================\n",
      "Total params: 3\n",
      "Trainable params: 3\n",
      "Non-trainable params: 0\n",
      "_________________________________________________________________\n"
     ]
    }
   ],
   "source": [
    "# Write your code here\n",
    "model = Sequential()\n",
    "model.add(Dense(1, input_dim=2, activation='sigmoid'))\n",
    "model.compile(loss='binary_crossentropy',\n",
    "              optimizer='nadam',\n",
    "              metrics=['accuracy'])\n",
    "model.summary()"
   ]
  },
  {
   "cell_type": "markdown",
   "id": "decent-vermont",
   "metadata": {},
   "source": [
    "We fit the model"
   ]
  },
  {
   "cell_type": "code",
   "execution_count": 221,
   "id": "significant-chase",
   "metadata": {},
   "outputs": [
    {
     "data": {
      "text/plain": [
       "<tensorflow.python.keras.callbacks.History at 0x1fc98176e10>"
      ]
     },
     "execution_count": 221,
     "metadata": {},
     "output_type": "execute_result"
    }
   ],
   "source": [
    "model.fit(X, y, epochs=2000, batch_size=4, verbose=0)"
   ]
  },
  {
   "cell_type": "code",
   "execution_count": 222,
   "id": "bridal-tribune",
   "metadata": {},
   "outputs": [
    {
     "data": {
      "text/plain": [
       "array([0., 0., 0., 0., 0., 0., 0., 0., 0., 0., 0., 0., 0., 0., 0., 1., 1.,\n",
       "       1., 1., 1., 1., 1., 1., 1., 1., 1., 1., 1., 1., 1.])"
      ]
     },
     "execution_count": 222,
     "metadata": {},
     "output_type": "execute_result"
    }
   ],
   "source": [
    "y"
   ]
  },
  {
   "cell_type": "code",
   "execution_count": 223,
   "id": "subtle-april",
   "metadata": {},
   "outputs": [
    {
     "name": "stdout",
     "output_type": "stream",
     "text": [
      "WARNING:tensorflow:5 out of the last 9 calls to <function Model.make_predict_function.<locals>.predict_function at 0x000001FC988C07B8> triggered tf.function retracing. Tracing is expensive and the excessive number of tracings could be due to (1) creating @tf.function repeatedly in a loop, (2) passing tensors with different shapes, (3) passing Python objects instead of tensors. For (1), please define your @tf.function outside of the loop. For (2), @tf.function has experimental_relax_shapes=True option that relaxes argument shapes that can avoid unnecessary retracing. For (3), please refer to https://www.tensorflow.org/guide/function#controlling_retracing and https://www.tensorflow.org/api_docs/python/tf/function for  more details.\n"
     ]
    },
    {
     "data": {
      "text/plain": [
       "array([[2.76607082e-33],\n",
       "       [1.04951395e-10],\n",
       "       [9.48241353e-03],\n",
       "       [2.16197855e-13],\n",
       "       [1.27166745e-24],\n",
       "       [3.67057339e-12],\n",
       "       [4.52904459e-27],\n",
       "       [1.94388126e-18],\n",
       "       [2.82285127e-13],\n",
       "       [4.20036912e-03],\n",
       "       [6.69947267e-03],\n",
       "       [4.49508529e-12],\n",
       "       [0.00000000e+00],\n",
       "       [3.47579136e-24],\n",
       "       [2.55743748e-17],\n",
       "       [1.00000000e+00],\n",
       "       [1.00000000e+00],\n",
       "       [9.91651058e-01],\n",
       "       [1.00000000e+00],\n",
       "       [1.00000000e+00],\n",
       "       [1.00000000e+00],\n",
       "       [1.00000000e+00],\n",
       "       [1.00000000e+00],\n",
       "       [1.00000000e+00],\n",
       "       [1.00000000e+00],\n",
       "       [1.00000000e+00],\n",
       "       [1.00000000e+00],\n",
       "       [1.00000000e+00],\n",
       "       [1.00000000e+00],\n",
       "       [9.91701007e-01]], dtype=float32)"
      ]
     },
     "execution_count": 223,
     "metadata": {},
     "output_type": "execute_result"
    }
   ],
   "source": [
    "model.predict(X)"
   ]
  },
  {
   "cell_type": "code",
   "execution_count": 224,
   "id": "developing-fence",
   "metadata": {},
   "outputs": [
    {
     "name": "stderr",
     "output_type": "stream",
     "text": [
      "C:\\Users\\Admin\\AppData\\Roaming\\Python\\Python37\\site-packages\\tensorflow\\python\\keras\\engine\\sequential.py:450: UserWarning: `model.predict_classes()` is deprecated and will be removed after 2021-01-01. Please use instead:* `np.argmax(model.predict(x), axis=-1)`,   if your model does multi-class classification   (e.g. if it uses a `softmax` last-layer activation).* `(model.predict(x) > 0.5).astype(\"int32\")`,   if your model does binary classification   (e.g. if it uses a `sigmoid` last-layer activation).\n",
      "  warnings.warn('`model.predict_classes()` is deprecated and '\n"
     ]
    },
    {
     "data": {
      "text/plain": [
       "array([[0],\n",
       "       [0],\n",
       "       [0],\n",
       "       [0],\n",
       "       [0],\n",
       "       [0],\n",
       "       [0],\n",
       "       [0],\n",
       "       [0],\n",
       "       [0],\n",
       "       [0],\n",
       "       [0],\n",
       "       [0],\n",
       "       [0],\n",
       "       [0],\n",
       "       [1],\n",
       "       [1],\n",
       "       [1],\n",
       "       [1],\n",
       "       [1],\n",
       "       [1],\n",
       "       [1],\n",
       "       [1],\n",
       "       [1],\n",
       "       [1],\n",
       "       [1],\n",
       "       [1],\n",
       "       [1],\n",
       "       [1],\n",
       "       [1]])"
      ]
     },
     "execution_count": 224,
     "metadata": {},
     "output_type": "execute_result"
    }
   ],
   "source": [
    "model.predict_classes(X)"
   ]
  },
  {
   "cell_type": "markdown",
   "id": "beginning-holly",
   "metadata": {},
   "source": [
    "If you do not obtain a correct classification, rerun the training with more epochs."
   ]
  },
  {
   "cell_type": "markdown",
   "id": "reserved-curve",
   "metadata": {},
   "source": [
    "## Reading\n",
    "You will read the article *An overview of gradient descent optimization algorithms* by Ruder (2017) and you will outline the main characteristics of all the optimization algorithms the author describes. This part should be of about one to two pages. Link to the article: https://arxiv.org/abs/1609.04747\n",
    "\n",
    "If you understand French, or using Google translate, you may also want to read the original article on gradient descent by Cauchy here:  https://gallica.bnf.fr/ark:/12148/bpt6k2982c/f540.item.\n"
   ]
  },
  {
   "cell_type": "markdown",
   "id": "amazing-field",
   "metadata": {},
   "source": [
    "### Report\n",
    "\n",
    "The assignment must be documented in the report, which should contain the following:\n",
    "\n",
    "*   The name of the author, the title of the assignment, and any relevant information on the front page;\n",
    "*   A presentation of the assignment and the possible improvements you would have brought;\n",
    "*   A presentation of your implementation;\n",
    "*   A print-out of the example set(s) and the resulting weight vectors;\n",
    "*   Comments on the results you have obtained, including your cross validation;\n",
    "*   A short dissertation on the optimization algorithms from Ruder's paper.\n",
    "\n",
    "Please, typeset and format your report consistently. You must use Latex. Documents written using MS Word or any similar format will not be considered.\n",
    "\n",
    "You may have a look at the code in the textbook code repository (or any other implementations), but the code you hand in must be your work."
   ]
  },
  {
   "cell_type": "markdown",
   "id": "pediatric-glory",
   "metadata": {},
   "source": [
    "## Submission\n",
    "Submit the notebook and the report to Canvas (two files). Do not include the code printout in the report, but only comments on its interesting parts. You will submit the notebook as a separate file."
   ]
  },
  {
   "cell_type": "code",
   "execution_count": null,
   "id": "pursuant-championship",
   "metadata": {},
   "outputs": [],
   "source": []
  }
 ],
 "metadata": {
  "kernelspec": {
   "display_name": "Python 3",
   "language": "python",
   "name": "python3"
  },
  "language_info": {
   "codemirror_mode": {
    "name": "ipython",
    "version": 3
   },
   "file_extension": ".py",
   "mimetype": "text/x-python",
   "name": "python",
   "nbconvert_exporter": "python",
   "pygments_lexer": "ipython3",
   "version": "3.7.2"
  }
 },
 "nbformat": 4,
 "nbformat_minor": 5
}
